{
 "cells": [
  {
   "cell_type": "markdown",
   "metadata": {},
   "source": [
    "# NumPy Notes\n",
    "By Siang Jun Teo.\n",
    "Adapted from notes made by Iain Murray"
   ]
  },
  {
   "cell_type": "markdown",
   "metadata": {},
   "source": [
    "For this tutorial, we shall be importing NumPy and Matplotlib.pyplot."
   ]
  },
  {
   "cell_type": "code",
   "execution_count": null,
   "metadata": {},
   "outputs": [],
   "source": [
    "from numpy import *\n",
    "from matplotlib.pyplot import *"
   ]
  },
  {
   "cell_type": "markdown",
   "metadata": {},
   "source": [
    "# Vector and Matrices Manipulation"
   ]
  },
  {
   "cell_type": "markdown",
   "metadata": {},
   "source": [
    "## 1D Array\n",
    "First, let us populate a list, and a NumPy array."
   ]
  },
  {
   "cell_type": "code",
   "execution_count": null,
   "metadata": {},
   "outputs": [],
   "source": [
    "lst = [3, 1, 4, 1, 5, 9, 2]\n",
    "vec = array([3, 1, 4, 1, 5, 9, 2], dtype='float64')"
   ]
  },
  {
   "cell_type": "markdown",
   "metadata": {},
   "source": [
    "Using double floating point numbers (float64) is often a good default.\n",
    "Another way to make the array floating point is to put a '.' after one or more\n",
    "of the numbers. (All numbers are doubles by default in Matlab.)"
   ]
  },
  {
   "cell_type": "markdown",
   "metadata": {},
   "source": [
    "Do try out `lst+lst` and `vec+vec`. Note how they're different."
   ]
  },
  {
   "cell_type": "code",
   "execution_count": null,
   "metadata": {},
   "outputs": [],
   "source": [
    "lst+lst"
   ]
  },
  {
   "cell_type": "code",
   "execution_count": null,
   "metadata": {},
   "outputs": [],
   "source": [
    "vec+vec"
   ]
  },
  {
   "cell_type": "markdown",
   "metadata": {},
   "source": [
    "Now try out other vector manipulations such as `vec/2`, `vec+3`, `vec*vec`, `vec**2`."
   ]
  },
  {
   "cell_type": "code",
   "execution_count": null,
   "metadata": {},
   "outputs": [],
   "source": [
    "vec/2"
   ]
  },
  {
   "cell_type": "code",
   "execution_count": null,
   "metadata": {},
   "outputs": [],
   "source": [
    "vec+3"
   ]
  },
  {
   "cell_type": "code",
   "execution_count": null,
   "metadata": {},
   "outputs": [],
   "source": [
    "vec*vec"
   ]
  },
  {
   "cell_type": "code",
   "execution_count": null,
   "metadata": {
    "scrolled": true
   },
   "outputs": [],
   "source": [
    "vec**2"
   ]
  },
  {
   "cell_type": "markdown",
   "metadata": {},
   "source": [
    "In Python, lists and NumPy arrays are zero-indexed i.e. you start counting from 0.\n",
    "Now, guess what the following will output."
   ]
  },
  {
   "cell_type": "code",
   "execution_count": null,
   "metadata": {},
   "outputs": [],
   "source": [
    "lst[3:5]"
   ]
  },
  {
   "cell_type": "code",
   "execution_count": null,
   "metadata": {},
   "outputs": [],
   "source": [
    "lst[-1]"
   ]
  },
  {
   "cell_type": "code",
   "execution_count": null,
   "metadata": {},
   "outputs": [],
   "source": [
    "vec[0]"
   ]
  },
  {
   "cell_type": "code",
   "execution_count": null,
   "metadata": {
    "scrolled": true
   },
   "outputs": [],
   "source": [
    "vec[3:5]"
   ]
  },
  {
   "cell_type": "markdown",
   "metadata": {},
   "source": [
    "In NumPy, you can also select a list of indexes:"
   ]
  },
  {
   "cell_type": "code",
   "execution_count": null,
   "metadata": {},
   "outputs": [],
   "source": [
    "vec[[0,3,5,2,2]]"
   ]
  },
  {
   "cell_type": "markdown",
   "metadata": {},
   "source": [
    "## 2D Arrays / Matrices"
   ]
  },
  {
   "cell_type": "code",
   "execution_count": null,
   "metadata": {},
   "outputs": [],
   "source": [
    "A = array([[ 1,  2,  3],\n",
    "           [ 4,  5,  6],\n",
    "           [ 7,  8,  9],\n",
    "           [10, 11, 12],\n",
    "           [13, 14, 15]], dtype='float64')"
   ]
  },
  {
   "cell_type": "code",
   "execution_count": null,
   "metadata": {},
   "outputs": [],
   "source": [
    "print('A is a numpy array with shape ' + repr(A.shape))"
   ]
  },
  {
   "cell_type": "code",
   "execution_count": null,
   "metadata": {},
   "outputs": [],
   "source": [
    "print('That means A has {} rows.'.format(A.shape[0]))"
   ]
  },
  {
   "cell_type": "markdown",
   "metadata": {},
   "source": [
    "It's now your turn. Output the number of columns in A."
   ]
  },
  {
   "cell_type": "code",
   "execution_count": null,
   "metadata": {},
   "outputs": [],
   "source": [
    "# Your code here"
   ]
  },
  {
   "cell_type": "code",
   "execution_count": null,
   "metadata": {},
   "outputs": [],
   "source": [
    "print(\"Like a normal list of lists, we can index the rows:\")\n",
    "print(\"    (NB this behavior is NOT like Matlab's A(1), A(1:3))\")\n",
    "print(\"A[0] =\")\n",
    "print(A[0])\n",
    "print(\"A[0:3] =\")\n",
    "print(A[0:3])"
   ]
  },
  {
   "cell_type": "code",
   "execution_count": null,
   "metadata": {},
   "outputs": [],
   "source": [
    "print(\"We could then clumsily take of the first element of a row:\")\n",
    "print(\"A[0][0] =\")\n",
    "print(A[0][0])\n",
    "print(\"But a neater way to get the 0th row of the 0th column is:\")\n",
    "print(\"A[0,0] =\")\n",
    "print(A[0,0])"
   ]
  },
  {
   "cell_type": "markdown",
   "metadata": {},
   "source": [
    "It's now your turn. Output the bottom right element of the array."
   ]
  },
  {
   "cell_type": "code",
   "execution_count": null,
   "metadata": {},
   "outputs": [],
   "source": [
    "# Your code here"
   ]
  },
  {
   "cell_type": "code",
   "execution_count": null,
   "metadata": {},
   "outputs": [],
   "source": [
    "print('Rows and columns can be sliced like Python lists:\"')\n",
    "print(\"A[0:2,:] =\")\n",
    "print(A[0:2,:])"
   ]
  },
  {
   "cell_type": "markdown",
   "metadata": {},
   "source": [
    "It's now your turn. Output the last column of A."
   ]
  },
  {
   "cell_type": "code",
   "execution_count": null,
   "metadata": {},
   "outputs": [],
   "source": [
    "# Your code here"
   ]
  },
  {
   "cell_type": "markdown",
   "metadata": {},
   "source": [
    "Output the first two rows of the last column of A."
   ]
  },
  {
   "cell_type": "code",
   "execution_count": null,
   "metadata": {},
   "outputs": [],
   "source": [
    "# Your code here"
   ]
  },
  {
   "cell_type": "code",
   "execution_count": null,
   "metadata": {},
   "outputs": [],
   "source": [
    "print(\"Extracting multiple desired rows and columns:\")\n",
    "print(\"A[ix_([0,3,4],[0,2])] =\")\n",
    "print(A[ix_([0,3,4],[0,2])])"
   ]
  },
  {
   "cell_type": "markdown",
   "metadata": {},
   "source": [
    "## Work with arrays\n",
    "\n",
    "To find the mean of each column of an array you might do:"
   ]
  },
  {
   "cell_type": "code",
   "execution_count": null,
   "metadata": {},
   "outputs": [],
   "source": [
    "I, J = A.shape\n",
    "mu = zeros(J) # allocate space for answer\n",
    "for i in range(I):\n",
    "    for j in range(J):\n",
    "        mu[j] += A[i,j]\n",
    "mu = mu / I\n",
    "print('Mean: ' + repr(mu))"
   ]
  },
  {
   "cell_type": "markdown",
   "metadata": {},
   "source": [
    "But code with a lot of numerical computations would be cluttered very quickly. So you you would create a function called \"mean\". Except numpy already has one:"
   ]
  },
  {
   "cell_type": "code",
   "execution_count": null,
   "metadata": {},
   "outputs": [],
   "source": [
    "mu = mean(A, 0) # the mean for each column in A\n",
    "print('Mean: ' + repr(mu))"
   ]
  },
  {
   "cell_type": "markdown",
   "metadata": {},
   "source": [
    "Now, find the mean for each of the rows in A."
   ]
  },
  {
   "cell_type": "code",
   "execution_count": null,
   "metadata": {},
   "outputs": [],
   "source": [
    "# Your code here"
   ]
  },
  {
   "cell_type": "markdown",
   "metadata": {},
   "source": [
    "To make each column zero-mean, we could laboriously subtract off the mean:"
   ]
  },
  {
   "cell_type": "code",
   "execution_count": null,
   "metadata": {
    "scrolled": true
   },
   "outputs": [],
   "source": [
    "A_shift = copy(A) # without copy, would modify A when modify A_shift\n",
    "for i in range(I):\n",
    "    for j in range(J):\n",
    "        A_shift[i,j] -= mu[j]\n",
    "print('Cols centered:\\n' + repr(A_shift))"
   ]
  },
  {
   "cell_type": "markdown",
   "metadata": {},
   "source": [
    "But we can subtract arrays of the same shape in numpy, so can take the mean row off each row in one operation per row:"
   ]
  },
  {
   "cell_type": "code",
   "execution_count": null,
   "metadata": {},
   "outputs": [],
   "source": [
    "A_shift = copy(A)\n",
    "for i in range(I):\n",
    "    A_shift[i] -= mu\n",
    "print('Cols centered:\\n' + repr(A_shift))"
   ]
  },
  {
   "cell_type": "markdown",
   "metadata": {},
   "source": [
    "And in fact numpy works out what we want with the obvious expression:"
   ]
  },
  {
   "cell_type": "code",
   "execution_count": null,
   "metadata": {},
   "outputs": [],
   "source": [
    "A_shift = A - mu\n",
    "print('Cols centered:\\n' + repr(A_shift))\n",
    "print('Check the columns are centered: ' + repr(mean(A_shift, 0)))"
   ]
  },
  {
   "cell_type": "markdown",
   "metadata": {},
   "source": [
    "## Finding and sorting"
   ]
  },
  {
   "cell_type": "code",
   "execution_count": null,
   "metadata": {},
   "outputs": [],
   "source": [
    "people = ['jim', 'alice', 'ali', 'bob']\n",
    "height_cm = array([180, 165, 165, 178])"
   ]
  },
  {
   "cell_type": "markdown",
   "metadata": {},
   "source": [
    "The laborious, procedural programming way:"
   ]
  },
  {
   "cell_type": "code",
   "execution_count": null,
   "metadata": {},
   "outputs": [],
   "source": [
    "largest_height = -Inf\n",
    "tallest_person = ''\n",
    "for (i,h) in enumerate(height_cm):\n",
    "    if h > largest_height:\n",
    "        largest_height = h\n",
    "        tallest_person = people[i]\n",
    "print('largest_height = {}'.format(largest_height))\n",
    "print('tallest_person = {}'.format(tallest_person))"
   ]
  },
  {
   "cell_type": "markdown",
   "metadata": {},
   "source": [
    "Of course there's a standard routine built in:"
   ]
  },
  {
   "cell_type": "code",
   "execution_count": null,
   "metadata": {},
   "outputs": [],
   "source": [
    "largest_height = max(height_cm)\n",
    "print('largest_height = {}'.format(largest_height))"
   ]
  },
  {
   "cell_type": "markdown",
   "metadata": {},
   "source": [
    "Alternatively, we can ask for the location of the largest element:"
   ]
  },
  {
   "cell_type": "code",
   "execution_count": null,
   "metadata": {},
   "outputs": [],
   "source": [
    "idx = argmax(height_cm)\n",
    "largest_height = height_cm[idx]\n",
    "tallest_person = people[idx]\n",
    "print('largest_height = {}'.format(largest_height))\n",
    "print('tallest_person = {}'.format(tallest_person))"
   ]
  },
  {
   "cell_type": "markdown",
   "metadata": {},
   "source": [
    "What about the shortest person?"
   ]
  },
  {
   "cell_type": "code",
   "execution_count": null,
   "metadata": {},
   "outputs": [],
   "source": [
    "smallest_height = min(height_cm)\n",
    "idx = argmin(height_cm)\n",
    "smallest_person = people[idx]"
   ]
  },
  {
   "cell_type": "markdown",
   "metadata": {},
   "source": [
    "Except actually, that's just the first one, there is a tie:"
   ]
  },
  {
   "cell_type": "code",
   "execution_count": null,
   "metadata": {},
   "outputs": [],
   "source": [
    "ids = argwhere(height_cm == smallest_height).flatten()\n",
    "print(ids)\n",
    "smallest_people = [people[i] for i in ids]\n",
    "print('smallest_people: ' + repr(smallest_people))"
   ]
  },
  {
   "cell_type": "markdown",
   "metadata": {},
   "source": [
    "sort(height_cm) sorts the list. Again, a second argument will give the indexes of the corresponding items."
   ]
  },
  {
   "cell_type": "code",
   "execution_count": null,
   "metadata": {},
   "outputs": [],
   "source": [
    "sorted_heights = sort(height_cm)\n",
    "print('sorted_heights: ' + repr(sorted_heights))\n",
    "ids = argsort(height_cm)\n",
    "sorted_heights = height_cm[ids]"
   ]
  },
  {
   "cell_type": "markdown",
   "metadata": {},
   "source": [
    "The previous line wouldn't work with a normal list, but numpy arrays allow a list of indexes. The python list of people needs a list comprehension:"
   ]
  },
  {
   "cell_type": "code",
   "execution_count": null,
   "metadata": {},
   "outputs": [],
   "source": [
    "people_in_height_order = [people[i] for i in ids]\n",
    "print('sorted_heights: ' + repr(sorted_heights))\n",
    "print('people_in_height_order: ' + repr(people_in_height_order))"
   ]
  },
  {
   "cell_type": "markdown",
   "metadata": {},
   "source": [
    "# Plotting with matplotlib\n",
    "Adapted from notes made by Andreas C. Kapourani, Steve Renals, and Iain Murray"
   ]
  },
  {
   "cell_type": "markdown",
   "metadata": {},
   "source": [
    "## 2D Plotting"
   ]
  },
  {
   "cell_type": "markdown",
   "metadata": {},
   "source": [
    "Unlike in MATLAB, where one might type [1:0.01:5] to indicate [1,1.01,1.02,..,4.99,5], NumPy uses arange(1,5,0.01)."
   ]
  },
  {
   "cell_type": "code",
   "execution_count": null,
   "metadata": {},
   "outputs": [],
   "source": [
    "x = arange(1,5,0.01)\n",
    "plot(x, sin(x*pi))              # plots the graph\n",
    "suptitle('Sine function plot')  # adds a title to the graph\n",
    "xlabel('x')                     # adds a label to the x-axis\n",
    "ylabel('sin(x*pi)')             # similarly for y-axis\n",
    "show()                          # displays the graph"
   ]
  },
  {
   "cell_type": "code",
   "execution_count": null,
   "metadata": {},
   "outputs": [],
   "source": [
    "x = arange(1,5,0.01)\n",
    "plot(x, sin(x*pi), label=\"sin\")        # you can add a label to each plot\n",
    "plot(x, cos(x*pi), '--', label=\"cos\")  # you can also change how the lines look\n",
    "legend()                               # you can also add a legend to the graph\n",
    "show()"
   ]
  },
  {
   "cell_type": "code",
   "execution_count": null,
   "metadata": {},
   "outputs": [],
   "source": [
    "x, y = meshgrid(arange(-10,10,0.1), arange(-5,5,0.1))  # a meshgrid is used when the axes have different range\n",
    "z = x**2 + y**2\n",
    "contour(x, y, z)"
   ]
  },
  {
   "cell_type": "markdown",
   "metadata": {},
   "source": [
    "## 3D Plotting\n",
    "https://matplotlib.org/mpl_toolkits/mplot3d/tutorial.html"
   ]
  },
  {
   "cell_type": "code",
   "execution_count": null,
   "metadata": {},
   "outputs": [],
   "source": [
    "from mpl_toolkits.mplot3d import Axes3D # needed to plot 3D images"
   ]
  },
  {
   "cell_type": "code",
   "execution_count": null,
   "metadata": {},
   "outputs": [],
   "source": [
    "x, y = meshgrid(arange(-1,1,0.1), arange(-2,2,0.1))\n",
    "z = x * exp(-(x ** 2) - (y ** 2))\n",
    "fig = figure()\n",
    "ax = fig.add_subplot(projection ='3d')   \n",
    "ax.plot_surface(x, y, z, cmap=cm.rainbow)"
   ]
  }
 ],
 "metadata": {
  "kernelspec": {
   "display_name": "Python 3",
   "language": "python",
   "name": "python3"
  },
  "language_info": {
   "codemirror_mode": {
    "name": "ipython",
    "version": 3
   },
   "file_extension": ".py",
   "mimetype": "text/x-python",
   "name": "python",
   "nbconvert_exporter": "python",
   "pygments_lexer": "ipython3",
   "version": "3.8.1"
  }
 },
 "nbformat": 4,
 "nbformat_minor": 4
}
